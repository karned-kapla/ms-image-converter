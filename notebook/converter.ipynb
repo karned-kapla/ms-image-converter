{
 "cells": [
  {
   "metadata": {},
   "cell_type": "markdown",
   "source": "# test openCV",
   "id": "8f83b79344662f72"
  },
  {
   "metadata": {
    "ExecuteTime": {
     "end_time": "2024-07-05T22:36:04.432051Z",
     "start_time": "2024-07-05T22:35:59.984912Z"
    }
   },
   "cell_type": "code",
   "source": "pip install opencv-python",
   "id": "5a2051d4b6e2c8e1",
   "outputs": [
    {
     "name": "stdout",
     "output_type": "stream",
     "text": [
      "Collecting opencv-python\r\n",
      "  Obtaining dependency information for opencv-python from https://files.pythonhosted.org/packages/66/82/564168a349148298aca281e342551404ef5521f33fba17b388ead0a84dc5/opencv_python-4.10.0.84-cp37-abi3-macosx_11_0_arm64.whl.metadata\r\n",
      "  Downloading opencv_python-4.10.0.84-cp37-abi3-macosx_11_0_arm64.whl.metadata (20 kB)\r\n",
      "Collecting numpy>=1.21.0 (from opencv-python)\r\n",
      "  Obtaining dependency information for numpy>=1.21.0 from https://files.pythonhosted.org/packages/95/ed/3a23463e2608b54af1fbd3649cd403e81b82993685d2a21006291b879122/numpy-2.0.0-cp39-cp39-macosx_14_0_arm64.whl.metadata\r\n",
      "  Downloading numpy-2.0.0-cp39-cp39-macosx_14_0_arm64.whl.metadata (60 kB)\r\n",
      "\u001B[2K     \u001B[90m━━━━━━━━━━━━━━━━━━━━━━━━━━━━━━━━━━━━━━━━\u001B[0m \u001B[32m60.9/60.9 kB\u001B[0m \u001B[31m2.3 MB/s\u001B[0m eta \u001B[36m0:00:00\u001B[0m\r\n",
      "\u001B[?25hDownloading opencv_python-4.10.0.84-cp37-abi3-macosx_11_0_arm64.whl (54.8 MB)\r\n",
      "\u001B[2K   \u001B[90m━━━━━━━━━━━━━━━━━━━━━━━━━━━━━━━━━━━━━━━━\u001B[0m \u001B[32m54.8/54.8 MB\u001B[0m \u001B[31m30.0 MB/s\u001B[0m eta \u001B[36m0:00:00\u001B[0m00:01\u001B[0m00:01\u001B[0m\r\n",
      "\u001B[?25hDownloading numpy-2.0.0-cp39-cp39-macosx_14_0_arm64.whl (5.2 MB)\r\n",
      "\u001B[2K   \u001B[90m━━━━━━━━━━━━━━━━━━━━━━━━━━━━━━━━━━━━━━━━\u001B[0m \u001B[32m5.2/5.2 MB\u001B[0m \u001B[31m34.8 MB/s\u001B[0m eta \u001B[36m0:00:00\u001B[0m00:01\u001B[0m00:01\u001B[0m\r\n",
      "\u001B[?25hInstalling collected packages: numpy, opencv-python\r\n",
      "Successfully installed numpy-2.0.0 opencv-python-4.10.0.84\r\n",
      "\r\n",
      "\u001B[1m[\u001B[0m\u001B[34;49mnotice\u001B[0m\u001B[1;39;49m]\u001B[0m\u001B[39;49m A new release of pip is available: \u001B[0m\u001B[31;49m23.2.1\u001B[0m\u001B[39;49m -> \u001B[0m\u001B[32;49m24.1.1\u001B[0m\r\n",
      "\u001B[1m[\u001B[0m\u001B[34;49mnotice\u001B[0m\u001B[1;39;49m]\u001B[0m\u001B[39;49m To update, run: \u001B[0m\u001B[32;49mpip install --upgrade pip\u001B[0m\r\n",
      "Note: you may need to restart the kernel to use updated packages.\n"
     ]
    }
   ],
   "execution_count": 1
  },
  {
   "cell_type": "code",
   "id": "1c61a5f044587f07",
   "metadata": {
    "collapsed": true,
    "ExecuteTime": {
     "end_time": "2024-07-05T22:44:16.490781Z",
     "start_time": "2024-07-05T22:44:15.647850Z"
    }
   },
   "source": "import cv2",
   "outputs": [],
   "execution_count": null
  },
  {
   "metadata": {
    "ExecuteTime": {
     "end_time": "2024-07-05T23:33:57.061299Z",
     "start_time": "2024-07-05T23:33:56.902401Z"
    }
   },
   "cell_type": "code",
   "source": [
    "# create an image from file\n",
    "image = cv2.imread('../test/herisson.jpg')"
   ],
   "id": "f8dc192662093d6d",
   "outputs": [],
   "execution_count": 15
  },
  {
   "metadata": {},
   "cell_type": "code",
   "outputs": [
    {
     "data": {
      "text/plain": [
       "True"
      ]
     },
     "execution_count": 3,
     "metadata": {},
     "output_type": "execute_result"
    }
   ],
   "execution_count": 3,
   "source": [
    "# convert to png\n",
    "cv2.imwrite('../test/herisson.png', image)"
   ],
   "id": "initial_id"
  },
  {
   "metadata": {
    "ExecuteTime": {
     "end_time": "2024-07-05T23:17:01.505066Z",
     "start_time": "2024-07-05T23:17:00.798144Z"
    }
   },
   "cell_type": "code",
   "source": [
    "# convert to tiff\n",
    "cv2.imwrite('../test/herisson.tiff', image)"
   ],
   "id": "9bf8ca495c82ac3c",
   "outputs": [
    {
     "data": {
      "text/plain": [
       "True"
      ]
     },
     "execution_count": 4,
     "metadata": {},
     "output_type": "execute_result"
    }
   ],
   "execution_count": 4
  },
  {
   "metadata": {
    "ExecuteTime": {
     "end_time": "2024-07-05T23:19:47.116878Z",
     "start_time": "2024-07-05T23:19:47.075073Z"
    }
   },
   "cell_type": "code",
   "source": [
    "# reduce size in %\n",
    "image = cv2.resize(image, (0,0), fx=0.5, fy=0.5)\n",
    "cv2.imwrite('../test/herisson_small.jpg', image)"
   ],
   "id": "8a440aff5d6fa1d9",
   "outputs": [
    {
     "data": {
      "text/plain": [
       "True"
      ]
     },
     "execution_count": 6,
     "metadata": {},
     "output_type": "execute_result"
    }
   ],
   "execution_count": 6
  },
  {
   "metadata": {
    "ExecuteTime": {
     "end_time": "2024-07-05T23:32:14.694346Z",
     "start_time": "2024-07-05T23:32:14.686162Z"
    }
   },
   "cell_type": "code",
   "source": [
    "# fit to a size in pixels\n",
    "image = cv2.resize(image, (100, 400))\n",
    "cv2.imwrite('../test/herisson_small2.jpg', image)"
   ],
   "id": "d9be280f08360c19",
   "outputs": [
    {
     "data": {
      "text/plain": [
       "True"
      ]
     },
     "execution_count": 12,
     "metadata": {},
     "output_type": "execute_result"
    }
   ],
   "execution_count": 12
  },
  {
   "metadata": {
    "ExecuteTime": {
     "end_time": "2024-07-05T23:33:33.727457Z",
     "start_time": "2024-07-05T23:33:33.605351Z"
    }
   },
   "cell_type": "code",
   "source": [
    "# fit to a size in pixels and crop if necessary\n",
    "image = cv2.resize(image, (100, 400), interpolation=cv2.INTER_AREA)\n",
    "cv2.imwrite('../test/herisson_small3.jpg', image)"
   ],
   "id": "bb77fb805c873fc2",
   "outputs": [
    {
     "data": {
      "text/plain": [
       "True"
      ]
     },
     "execution_count": 14,
     "metadata": {},
     "output_type": "execute_result"
    }
   ],
   "execution_count": 14
  },
  {
   "metadata": {
    "ExecuteTime": {
     "end_time": "2024-07-05T23:21:07.451968Z",
     "start_time": "2024-07-05T23:21:07.419949Z"
    }
   },
   "cell_type": "code",
   "source": [
    "# convert to gray\n",
    "gray = cv2.cvtColor(image, cv2.COLOR_BGR2GRAY)\n",
    "cv2.imwrite('../test/herisson_gray.jpg', gray)"
   ],
   "id": "7122f3a311e6a7c2",
   "outputs": [
    {
     "data": {
      "text/plain": [
       "True"
      ]
     },
     "execution_count": 7,
     "metadata": {},
     "output_type": "execute_result"
    }
   ],
   "execution_count": 7
  },
  {
   "metadata": {},
   "cell_type": "code",
   "outputs": [],
   "execution_count": null,
   "source": [
    "# fit to a size in Mo\n",
    "cv2.imwrite('../test/herisson_small.jpg', image, [cv2.IMWRITE_JPEG_QUALITY, 50])\n"
   ],
   "id": "c1abd88b63032c9"
  }
 ],
 "metadata": {
  "kernelspec": {
   "display_name": "Python 3",
   "language": "python",
   "name": "python3"
  },
  "language_info": {
   "codemirror_mode": {
    "name": "ipython",
    "version": 2
   },
   "file_extension": ".py",
   "mimetype": "text/x-python",
   "name": "python",
   "nbconvert_exporter": "python",
   "pygments_lexer": "ipython2",
   "version": "2.7.6"
  }
 },
 "nbformat": 4,
 "nbformat_minor": 5
}
